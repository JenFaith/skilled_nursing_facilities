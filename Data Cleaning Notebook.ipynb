{
 "cells": [
  {
   "cell_type": "markdown",
   "id": "adcb8762",
   "metadata": {},
   "source": [
    "# Data Combining & Cleaning Notebook"
   ]
  },
  {
   "cell_type": "code",
   "execution_count": 359,
   "id": "568c8097",
   "metadata": {},
   "outputs": [],
   "source": [
    "import pandas as pd\n",
    "import numpy as np"
   ]
  },
  {
   "cell_type": "markdown",
   "id": "fa3b8739",
   "metadata": {},
   "source": [
    "##### Data Cleaning Explanation\n",
    "It's necessary to separate out the long-stay and short-stay residents since they have separate measures. I'd expect they would also have very different outcomes in this data since they have different experiences within the Skilled Nursing Facilities. \n",
    "\n",
    "For the purposes of this analysis, I'll be focusing on long-stay patients.\n",
    " \n",
    "##### Why use CSVs and not the CMS apis available? \n",
    "I would have liked to use the CMS apis to make the data ingestion process cleaner and more easily replicated by another user of this file. However, given the fact that I am using so much data, I decided it wouldn't be wise to use their apis to export data when there is a bulk download option in the form of csv files."
   ]
  },
  {
   "cell_type": "markdown",
   "id": "e3af4711",
   "metadata": {},
   "source": [
    "## Helper Functions"
   ]
  },
  {
   "cell_type": "code",
   "execution_count": 360,
   "id": "d7da479d",
   "metadata": {},
   "outputs": [],
   "source": [
    "def count_individuals(grp):\n",
    "    return np.sum(grp=='Individual')\n",
    "\n",
    "def count_organization(grp):\n",
    "    return np.sum(grp=='Organization')\n",
    "\n",
    "def new_owner(grp):\n",
    "    return np.sum(grp==True)\n",
    "    \n",
    "def duplicated_names(names):\n",
    "    List_of_names = names.split(',')\n",
    "    non_dups = set(List_of_names)\n",
    "    if len(List_of_names) == len(non_dups):\n",
    "        return False\n",
    "    else:\n",
    "        return True"
   ]
  },
  {
   "cell_type": "markdown",
   "id": "635a50e0",
   "metadata": {},
   "source": [
    "## Importing Data Files"
   ]
  },
  {
   "cell_type": "markdown",
   "id": "20cb53f7",
   "metadata": {},
   "source": [
    "### Loading & Cleaning Quality Data"
   ]
  },
  {
   "cell_type": "code",
   "execution_count": 361,
   "id": "319ebf4b",
   "metadata": {},
   "outputs": [],
   "source": [
    "class import_and_clean:\n",
    "    '''\n",
    "    Ingests CMS data from CSVs containing 'NH_QualityMsr_MDS' in name and cleans data.\n",
    "    \n",
    "    Class inputs are data_location, data_year, and the resident type (short-term vs long term).\n",
    "    '''\n",
    "    def __init__(self, data_location, data_year, resident_type):\n",
    "        self.data_location = data_location\n",
    "        self.year = data_year\n",
    "        self.resident_type = resident_type\n",
    "        \n",
    "    def read_file(self):\n",
    "        df = pd.read_csv(self.data_location, encoding='cp1252', dtype={'Federal Provider Number': 'str'})\n",
    "\n",
    "        #Separating out residents by group: Long vs Short-stay patients\n",
    "        stay = df[df['Measure Description'].str.contains(self.resident_type)]\n",
    "\n",
    "        #Remove currently unnecessary fields\n",
    "        stay = stay[['Federal Provider Number', 'Provider Name', 'Measure Code','Measure Description',\n",
    "                     'Q1 Measure Score','Q2 Measure Score','Q3 Measure Score','Q4 Measure Score','Four Quarter Average Score']]\n",
    "\n",
    "        #Combine description & code into one field for ease of use\n",
    "        stay['code_description'] = stay['Measure Code'].astype(str) + ' ' + stay['Measure Description']\n",
    "        return stay\n",
    "    \n",
    "    def pivot_quarters(self):\n",
    "        '''\n",
    "        Pivot data from long to wide format\n",
    "        '''\n",
    "        df = self.read_file()\n",
    "        #set filter for quarter based on input\n",
    "        quarter_filter = 'Four Quarter Average Score'\n",
    "        #pivot\n",
    "        pivot_df = pd.pivot(df, columns = ['code_description'], \n",
    "                            index = ['Federal Provider Number','Provider Name'], \n",
    "                            values = [quarter_filter])\n",
    "        #reset column names & add new columns\n",
    "        pivot_df.columns = pivot_df.columns.get_level_values(1)\n",
    "        pivot_df = pivot_df.reset_index()\n",
    "        pivot_df['Quarter'] = quarter_filter.upper()\n",
    "        pivot_df['Year'] = self.year\n",
    "        return pivot_df"
   ]
  },
  {
   "cell_type": "markdown",
   "id": "18aee15e",
   "metadata": {},
   "source": [
    "### Loading & Cleaning Provider Data"
   ]
  },
  {
   "cell_type": "code",
   "execution_count": 362,
   "id": "5cd70bce",
   "metadata": {},
   "outputs": [],
   "source": [
    "#load provider info\n",
    "def load_provider_info(filepath):\n",
    "    '''\n",
    "    Intakes provider information csv.\n",
    "    Outputs cleaned, shortened dataframe.\n",
    "    '''\n",
    "    df = pd.read_csv(filepath ,encoding='cp1252')\n",
    "    df = df[['Federal Provider Number','Provider Address','Provider City', 'Provider State', 'Provider Zip Code',\n",
    "       'Provider County Name', 'Ownership Type', 'Number of Certified Beds','Average Number of Residents per Day','Provider Type',\n",
    "       'Provider Resides in Hospital', 'Date First Approved to Provide Medicare and Medicaid Services','Continuing Care Retirement Community', 'Special Focus Status',\n",
    "       'Abuse Icon', 'Most Recent Health Inspection More Than 2 Years Ago','With a Resident and Family Council','Overall Rating','Health Inspection Rating',\n",
    "       'Staffing Rating', 'RN Staffing Rating','Reported Nurse Aide Staffing Hours per Resident per Day',\n",
    "       'Reported LPN Staffing Hours per Resident per Day','Reported RN Staffing Hours per Resident per Day',\n",
    "       'Reported Licensed Staffing Hours per Resident per Day','Reported Total Nurse Staffing Hours per Resident per Day',\n",
    "       'Reported Physical Therapist Staffing Hours per Resident Per Day','Case-Mix Nurse Aide Staffing Hours per Resident per Day',\n",
    "       'Case-Mix LPN Staffing Hours per Resident per Day','Case-Mix RN Staffing Hours per Resident per Day',\n",
    "       'Case-Mix Total Nurse Staffing Hours per Resident per Day','Adjusted Nurse Aide Staffing Hours per Resident per Day',\n",
    "       'Adjusted LPN Staffing Hours per Resident per Day', 'Adjusted RN Staffing Hours per Resident per Day',\n",
    "       'Adjusted Total Nurse Staffing Hours per Resident per Day','Number of Facility Reported Incidents','Number of Substantiated Complaints',\n",
    "       'Number of Citations from Infection Control Inspections', 'Number of Fines', 'Total Amount of Fines in Dollars','Total Number of Penalties']]\n",
    "    df['Federal Provider Number']= df['Federal Provider Number'].astype(str)\n",
    "    df['Date First Approved to Provide Medicare and Medicaid Services'] = pd.to_datetime(df['Date First Approved to Provide Medicare and Medicaid Services'])\n",
    "    df['time_diff']= (pd.Timestamp.now() - pd.to_datetime(df['Date First Approved to Provide Medicare and Medicaid Services'], \n",
    "                              errors='coerce')).dt.days\n",
    "    \n",
    "    return df\n",
    "\n",
    "prov_df = load_provider_info('data/NH_ProviderInfo_Apr2021.csv')"
   ]
  },
  {
   "cell_type": "code",
   "execution_count": 363,
   "id": "164fa4a1",
   "metadata": {},
   "outputs": [],
   "source": [
    "# Facility Quality Data\n",
    "import_file = import_and_clean('data/NH_QualityMsr_MDS_Apr2022.csv', '2021', 'long-stay')\n",
    "df = import_file.pivot_quarters()\n",
    "\n",
    "#Provider Data\n",
    "prov_df = load_provider_info('data/NH_ProviderInfo_Apr2021.csv')"
   ]
  },
  {
   "cell_type": "code",
   "execution_count": 364,
   "id": "231041ed",
   "metadata": {},
   "outputs": [
    {
     "name": "stdout",
     "output_type": "stream",
     "text": [
      "(15203, 18)\n",
      "(15328, 42)\n"
     ]
    }
   ],
   "source": [
    "print(df.shape)\n",
    "print(prov_df.shape)"
   ]
  },
  {
   "cell_type": "code",
   "execution_count": 365,
   "id": "e2a525a8",
   "metadata": {},
   "outputs": [],
   "source": [
    "# I decided to keep only facilities that had values in both data sets\n",
    "# This removed 64 facilities\n",
    "quality_provider = df.merge(prov_df, on = 'Federal Provider Number', how = 'inner')"
   ]
  },
  {
   "cell_type": "code",
   "execution_count": 366,
   "id": "2f41e94e",
   "metadata": {},
   "outputs": [
    {
     "name": "stdout",
     "output_type": "stream",
     "text": [
      "Merge results in loss of  -64  measures\n"
     ]
    }
   ],
   "source": [
    "print(\"Merge results in loss of \", quality_provider.shape[0] - df.shape[0], ' measures')"
   ]
  },
  {
   "cell_type": "markdown",
   "id": "c5037e22",
   "metadata": {},
   "source": [
    "### Loading & Cleaning Ownership Data"
   ]
  },
  {
   "cell_type": "code",
   "execution_count": 367,
   "id": "360ea777",
   "metadata": {},
   "outputs": [],
   "source": [
    "def ownership_dataset(data_path):\n",
    "    '''\n",
    "    Function to clean ownership dataset.\n",
    "    \n",
    "    Intakes csv. Outputs formatted dataframe.\n",
    "    '''\n",
    "    owner = pd.read_csv(data_path, encoding='cp1252')\n",
    "    \n",
    "    #create column that notes whether or not ownership information has been provided\n",
    "    owner['ownership_info'] = np.where(owner['Role played by Owner or Manager in Facility']!='Ownership Data Not Available',\n",
    "                                               'Available', 'Unavailable')\n",
    "\n",
    "    #create column for date from when owner was first associated\n",
    "    owner[['first_part', 'Associated_Since']] = owner['Association Date'].str.split('since ', expand = True)\n",
    "    owner['Associated_Since'] = pd.to_datetime(owner['Associated_Since'])\n",
    "\n",
    "    #create column indicating whether owner is new since start of 2021\n",
    "    owner['Owner_new_2021'] = np.where(owner['Associated_Since'] >= pd.Timestamp(2021, 1, 1, 0), True, False)\n",
    "\n",
    "    #create ownership length column\n",
    "    owner['Ownership Length'] = pd.Timestamp.now().normalize() - owner['Associated_Since']\n",
    "    owner['Ownership Length'] = owner['Ownership Length'].dt.days\n",
    "\n",
    "    #drop unneeded columns\n",
    "    owner = owner.drop(['first_part', 'Associated_Since', 'Association Date'], axis=1)\n",
    "\n",
    "    #Get count of facilites per owner\n",
    "    owner_count = owner.groupby('Owner Name').agg({'Federal Provider Number': lambda x: x.nunique()}).reset_index()\n",
    "    owner_count = owner_count.rename({'Federal Provider Number': 'Count_Facilities_Owned'}, axis=1)\n",
    "    owner_m = owner.merge(owner_count, on = 'Owner Name', how = 'left')\n",
    "    \n",
    "    #Group to owner level\n",
    "    owner_group = owner_m.groupby(['Federal Provider Number', \n",
    "                     'Provider Name', \n",
    "                     'Owner Name']).agg({'Count_Facilities_Owned': 'max',\n",
    "                                         'Owner_new_2021': 'max',\n",
    "                                         'Ownership Length': 'max',\n",
    "                                         'Owner Type': 'max',\n",
    "                                         'Role played by Owner or Manager in Facility': lambda x: x.nunique()}).reset_index()\n",
    "    #Pull out last name\n",
    "    owner_group['Owner Last Name'] = owner_group['Owner Name'].str.split(',').str[0]\n",
    "    \n",
    "    #Group to facility level\n",
    "    final_owner = owner_group.groupby(['Federal Provider Number', \n",
    "                         'Provider Name']).agg({'Owner Name': lambda x: x.nunique(),\n",
    "                                                'Owner Last Name': lambda x: ','.join(x),\n",
    "                                                'Owner Type': [count_individuals, count_organization],\n",
    "                                                'Count_Facilities_Owned': ['max', 'mean'],\n",
    "                                                'Owner_new_2021': new_owner,\n",
    "                                                'Ownership Length': ['max', 'mean'],\n",
    "                                                'Role played by Owner or Manager in Facility': ['max', 'mean']}).reset_index()\n",
    "    \n",
    "    #Rename columns\n",
    "    final_owner.columns = final_owner.columns.get_level_values(0)\n",
    "    final_owner.columns = ['Federal Provider Number', 'Provider Name', 'Number of Owners','Owner Names',\n",
    "                          '# of Individual Owners', '# of Organization Owners',\n",
    "                          'Max Facilities Owned', 'Mean Facilities Owned',\n",
    "                          'New Owners Since 2021', 'Max Ownership Length', 'Mean Ownership Length',\n",
    "                          'Max Roles', 'Mean Roles']\n",
    "    \n",
    "    #owners with same last name\n",
    "    final_owner['Owners w Same Last Name'] = final_owner['Owner Names'].apply(duplicated_names)\n",
    "    #facilities with both organizations and individuals listed on ownership\n",
    "    final_owner['Individual & Org Owned'] = np.where((final_owner['# of Individual Owners']>0) & \n",
    "                                                     (final_owner['# of Organization Owners']>0), \n",
    "                                                     'Yes', 'No')\n",
    "    final_owner = final_owner.drop('Owner Names', axis=1)\n",
    "    return final_owner"
   ]
  },
  {
   "cell_type": "code",
   "execution_count": 370,
   "id": "3ad9e41e",
   "metadata": {},
   "outputs": [],
   "source": [
    "#Ownership Information\n",
    "owner = ownership_dataset('data/NH_Ownership_Apr2022.csv')"
   ]
  },
  {
   "cell_type": "code",
   "execution_count": 372,
   "id": "cda47812",
   "metadata": {},
   "outputs": [],
   "source": [
    "# I chose an inner merge here because the majority of the records that \n",
    "# were not in the ownership dataset had either all nulls or had a majority\n",
    "# of nulls in the dataset"
   ]
  },
  {
   "cell_type": "code",
   "execution_count": 373,
   "id": "4d0eb35a",
   "metadata": {},
   "outputs": [],
   "source": [
    "all_measures = quality_provider.merge(owner, on = ['Federal Provider Number', 'Provider Name'])"
   ]
  },
  {
   "cell_type": "code",
   "execution_count": 375,
   "id": "59a67022",
   "metadata": {},
   "outputs": [],
   "source": [
    "all_measures.to_csv('data/all_measures.csv')"
   ]
  }
 ],
 "metadata": {
  "kernelspec": {
   "display_name": "Python 3 (ipykernel)",
   "language": "python",
   "name": "python3"
  },
  "language_info": {
   "codemirror_mode": {
    "name": "ipython",
    "version": 3
   },
   "file_extension": ".py",
   "mimetype": "text/x-python",
   "name": "python",
   "nbconvert_exporter": "python",
   "pygments_lexer": "ipython3",
   "version": "3.9.6"
  }
 },
 "nbformat": 4,
 "nbformat_minor": 5
}
